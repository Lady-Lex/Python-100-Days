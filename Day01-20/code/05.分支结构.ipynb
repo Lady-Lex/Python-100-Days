{
 "cells": [
  {
   "cell_type": "code",
   "execution_count": 1,
   "metadata": {},
   "outputs": [
    {
     "name": "stdout",
     "output_type": "stream",
     "text": [
      "bmi = 21.3\n",
      "你的身材很棒！\n"
     ]
    }
   ],
   "source": [
    "\"\"\"\n",
    "BMI计算器\n",
    "\n",
    "Version: 1.2\n",
    "Author: 骆昊\n",
    "\"\"\"\n",
    "height = float(input('身高(cm)：'))\n",
    "weight = float(input('体重(kg)：'))\n",
    "bmi = weight / (height / 100) ** 2\n",
    "print(f'{bmi = :.1f}')\n",
    "if bmi < 18.5:\n",
    "    print('你的体重过轻！')\n",
    "elif bmi < 24:\n",
    "    print('你的身材很棒！')\n",
    "elif bmi < 27:\n",
    "    print('你的体重过重！')\n",
    "elif bmi < 30:\n",
    "    print('你已轻度肥胖！')\n",
    "elif bmi < 35:\n",
    "    print('你已中度肥胖！')\n",
    "else:\n",
    "    print('你已重度肥胖！')"
   ]
  }
 ],
 "metadata": {
  "kernelspec": {
   "display_name": "gin",
   "language": "python",
   "name": "python3"
  },
  "language_info": {
   "codemirror_mode": {
    "name": "ipython",
    "version": 3
   },
   "file_extension": ".py",
   "mimetype": "text/x-python",
   "name": "python",
   "nbconvert_exporter": "python",
   "pygments_lexer": "ipython3",
   "version": "3.8.11"
  }
 },
 "nbformat": 4,
 "nbformat_minor": 2
}
