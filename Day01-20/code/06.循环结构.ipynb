{
 "cells": [
  {
   "cell_type": "code",
   "execution_count": 1,
   "metadata": {},
   "outputs": [
    {
     "name": "stdout",
     "output_type": "stream",
     "text": [
      "状态码描述: Unauthorized\n"
     ]
    }
   ],
   "source": [
    "status_code = int(input('响应状态码: '))\n",
    "match status_code:\n",
    "    case 400: description = 'Bad Request'\n",
    "    case 401: description = 'Unauthorized'\n",
    "    case 403: description = 'Forbidden'\n",
    "    case 404: description = 'Not Found'\n",
    "    case 405: description = 'Method Not Allowed'\n",
    "    case _: description = 'Unknown Status Code'\n",
    "print('状态码描述:', description)"
   ]
  }
 ],
 "metadata": {
  "kernelspec": {
   "display_name": "yl7",
   "language": "python",
   "name": "python3"
  },
  "language_info": {
   "codemirror_mode": {
    "name": "ipython",
    "version": 3
   },
   "file_extension": ".py",
   "mimetype": "text/x-python",
   "name": "python",
   "nbconvert_exporter": "python",
   "pygments_lexer": "ipython3",
   "version": "3.10.16"
  }
 },
 "nbformat": 4,
 "nbformat_minor": 2
}
